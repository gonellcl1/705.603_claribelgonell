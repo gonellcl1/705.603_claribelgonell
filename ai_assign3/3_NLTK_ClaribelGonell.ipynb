{
 "cells": [
  {
   "cell_type": "markdown",
   "id": "09aa2ad0",
   "metadata": {},
   "source": [
    "Clairbel Gonell\n",
    "\n",
    "EN 705.603.82 - Module 4 - Assignment 3\n",
    "\n",
    "Resubmit: 10/2/22"
   ]
  },
  {
   "cell_type": "markdown",
   "id": "1e71a761",
   "metadata": {},
   "source": [
    "# Directions"
   ]
  },
  {
   "cell_type": "markdown",
   "id": "db1ba421",
   "metadata": {},
   "source": [
    "Using the Amazon musical instrument review data on Kaggle (Links to an external site.), retrieve\n",
    "the summary column, perform tokenization, stemming, and lemmatization by creating a python\n",
    "script that prints out the summary information. Detail and run the python from a jupyter\n",
    "notebook. Publish the python script and notebook to your github repository. Create a docker\n",
    "image that runs the python and publish to your docker repository. Submit both links."
   ]
  },
  {
   "cell_type": "markdown",
   "id": "5d83b69e",
   "metadata": {},
   "source": [
    "**Links**\n",
    "\n",
    "1. Github: https://github.com/gonellcl1/706.603_claribelgonell/\n",
    "\n",
    "2. Docker: https://hub.docker.com/r/gonellcl/705.603_claribelgonell"
   ]
  },
  {
   "cell_type": "markdown",
   "id": "ccbeafad",
   "metadata": {},
   "source": [
    "**Import Libraries**"
   ]
  },
  {
   "cell_type": "code",
   "execution_count": 1,
   "id": "7c103cdd",
   "metadata": {},
   "outputs": [],
   "source": [
    "import pandas as pd # Pandas Dataframes\n",
    "from nltk.tokenize import word_tokenize # import NLTK word tokenize\n",
    "from nltk.stem import PorterStemmer # import NLTK Port Stemmer\n",
    "from nltk.stem import WordNetLemmatizer # import wordnet"
   ]
  },
  {
   "cell_type": "code",
   "execution_count": 2,
   "id": "825dc4e5",
   "metadata": {},
   "outputs": [],
   "source": [
    "ps = PorterStemmer() # initalize port stemmer for more compact code\n",
    "wl = WordNetLemmatizer() # initalize word net lemmatizer for more compact code"
   ]
  },
  {
   "cell_type": "markdown",
   "id": "07b99259",
   "metadata": {},
   "source": [
    "**NLTK class for manipulating text data**"
   ]
  },
  {
   "cell_type": "code",
   "execution_count": 3,
   "id": "7b65b42f",
   "metadata": {},
   "outputs": [],
   "source": [
    "class NLTK:\n",
    "    def __init__(self):\n",
    "        self.data = None\n",
    "        self.df = None\n",
    "\n",
    "    def read_data(self, file_name: str):\n",
    "        read = pd.read_csv(file_name)\n",
    "        self.df = pd.DataFrame(read)\n",
    "        return self.df\n",
    "\n",
    "    def inspect_column(self, updated_col: str, col_name: str):\n",
    "        self.data = pd.DataFrame()\n",
    "        self.data[updated_col] = self.df[col_name]\n",
    "        return self.data[updated_col]\n",
    "\n",
    "    def tokenize_column(self, col_name: str):\n",
    "        self.data['token'] = self.data[col_name].apply(word_tokenize)\n",
    "        return self.data['token']\n",
    "\n",
    "    def porter_stemmer(self):\n",
    "        self.data['porter_stemmer'] = self.data['token'].apply(lambda x: [ps.stem(y) for y in x])\n",
    "        return self.data['porter_stemmer']\n",
    "\n",
    "    def wordnet_lem(self):\n",
    "        self.data['wordnet_lem'] = self.data['token'].apply(lambda x: [wl.lemmatize(y) for y in x])\n",
    "        return self.data['wordnet_lem']\n",
    "\n",
    "    def print_output(self):\n",
    "        return print(self.data)\n",
    "\n",
    "    def convert_csv(self, file_name: str):\n",
    "        output = self.data.to_csv(file_name)\n",
    "        return output\n"
   ]
  },
  {
   "cell_type": "code",
   "execution_count": 4,
   "id": "a0e770c8",
   "metadata": {},
   "outputs": [
    {
     "name": "stdout",
     "output_type": "stream",
     "text": [
      "                                        original_summary  \\\n",
      "0                                                   good   \n",
      "1                                                   Jake   \n",
      "2                                   It Does The Job Well   \n",
      "3                          GOOD WINDSCREEN FOR THE MONEY   \n",
      "4                  No more pops when I record my vocals.   \n",
      "...                                                  ...   \n",
      "10256                                         Five Stars   \n",
      "10257  Long life, and for some players, a good econom...   \n",
      "10258                                   Good for coated.   \n",
      "10259                                        Taylor Made   \n",
      "10260  These strings are really quite good, but I wou...   \n",
      "\n",
      "                                                   token  \\\n",
      "0                                                 [good]   \n",
      "1                                                 [Jake]   \n",
      "2                             [It, Does, The, Job, Well]   \n",
      "3                    [GOOD, WINDSCREEN, FOR, THE, MONEY]   \n",
      "4       [No, more, pops, when, I, record, my, vocals, .]   \n",
      "...                                                  ...   \n",
      "10256                                      [Five, Stars]   \n",
      "10257  [Long, life, ,, and, for, some, players, ,, a,...   \n",
      "10258                             [Good, for, coated, .]   \n",
      "10259                                     [Taylor, Made]   \n",
      "10260  [These, strings, are, really, quite, good, ,, ...   \n",
      "\n",
      "                                          porter_stemmer  \\\n",
      "0                                                 [good]   \n",
      "1                                                 [jake]   \n",
      "2                              [it, doe, the, job, well]   \n",
      "3                    [good, windscreen, for, the, money]   \n",
      "4         [no, more, pop, when, i, record, my, vocal, .]   \n",
      "...                                                  ...   \n",
      "10256                                       [five, star]   \n",
      "10257  [long, life, ,, and, for, some, player, ,, a, ...   \n",
      "10258                               [good, for, coat, .]   \n",
      "10259                                     [taylor, made]   \n",
      "10260  [these, string, are, realli, quit, good, ,, bu...   \n",
      "\n",
      "                                             wordnet_lem  \n",
      "0                                                 [good]  \n",
      "1                                                 [Jake]  \n",
      "2                             [It, Does, The, Job, Well]  \n",
      "3                    [GOOD, WINDSCREEN, FOR, THE, MONEY]  \n",
      "4         [No, more, pop, when, I, record, my, vocal, .]  \n",
      "...                                                  ...  \n",
      "10256                                      [Five, Stars]  \n",
      "10257  [Long, life, ,, and, for, some, player, ,, a, ...  \n",
      "10258                             [Good, for, coated, .]  \n",
      "10259                                     [Taylor, Made]  \n",
      "10260  [These, string, are, really, quite, good, ,, b...  \n",
      "\n",
      "[10261 rows x 4 columns]\n"
     ]
    }
   ],
   "source": [
    "summarize = NLTK()\n",
    "summarize.read_data(\"Musical_instruments_reviews.csv\")\n",
    "summarize.inspect_column(\"original_summary\", \"summary\")\n",
    "summarize.tokenize_column('original_summary')\n",
    "summarize.porter_stemmer()\n",
    "summarize.wordnet_lem()\n",
    "summarize.print_output()"
   ]
  }
 ],
 "metadata": {
  "kernelspec": {
   "display_name": "Python 3 (ipykernel)",
   "language": "python",
   "name": "python3"
  },
  "language_info": {
   "codemirror_mode": {
    "name": "ipython",
    "version": 3
   },
   "file_extension": ".py",
   "mimetype": "text/x-python",
   "name": "python",
   "nbconvert_exporter": "python",
   "pygments_lexer": "ipython3",
   "version": "3.9.12"
  }
 },
 "nbformat": 4,
 "nbformat_minor": 5
}
