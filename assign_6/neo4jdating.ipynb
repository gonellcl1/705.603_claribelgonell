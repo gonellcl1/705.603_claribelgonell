{
 "cells": [
  {
   "cell_type": "markdown",
   "id": "173d001e",
   "metadata": {},
   "source": [
    "Claribel Gonell\n",
    "\n",
    "EN 705.603.82 - Module 6 - Assignment 6\n"
   ]
  },
  {
   "cell_type": "markdown",
   "id": "55873ff7",
   "metadata": {},
   "source": [
    "# Directions"
   ]
  },
  {
   "cell_type": "markdown",
   "id": "69de29a8",
   "metadata": {},
   "source": [
    "From this load you can answer the following questions using cypher language in the neo4j browser window\n",
    "Once loaded answer the following questions: Submit the answers in a your notebook.\n",
    "must show your cypher call(s) for each one. Each may require more than one cypher call.\n",
    "1) Provide the schema\n",
    "     db.schema.visualization())\n",
    "\n",
    "CALL db.schema.visualization\n",
    "\n",
    "2) Determine the ratio of Female to Males\n",
    "3) Determining the % of dates that were matches (both selected eachother) \n",
    "   Select columns that would prove useful in predicting a match.\n",
    "   Explain your reasoning.\n",
    "\n",
    "Be careful with the logic - many participants go on multiple dates - you must figure out the correct way to uniquely identify individuals.  Enter these answers in the notebook with the query.\n",
    "\n",
    "Now that you have the basics.  Go back to the Speed Dating Data Key.doc and select additional columns that you think would be useful in predicting a match.  Then setup supervised learning to create a model that predicts a match.  There isn't a lot of data so see what performance you can achieve.  You are free to use any model you like."
   ]
  },
  {
   "cell_type": "markdown",
   "id": "ce849280-5661-4bc4-9957-9190ad87a79c",
   "metadata": {},
   "source": [
    "**Import main neo class**"
   ]
  },
  {
   "cell_type": "code",
   "execution_count": 1,
   "id": "0c6147f6-dc86-434c-a5ad-f50ca2ec0be5",
   "metadata": {},
   "outputs": [],
   "source": [
    "from py2neo import Graph"
   ]
  },
  {
   "cell_type": "markdown",
   "id": "e182ed2f-f8cf-4719-a7b1-44773c490d59",
   "metadata": {},
   "source": [
    "**Connect to Neo4J Database**"
   ]
  },
  {
   "cell_type": "code",
   "execution_count": 2,
   "id": "224929f5-9ff6-4413-b5cd-7bde3af2fb32",
   "metadata": {},
   "outputs": [],
   "source": [
    "graph = Graph(password = \"Utahlove4!\")"
   ]
  },
  {
   "cell_type": "markdown",
   "id": "5bd9c987",
   "metadata": {},
   "source": [
    "**1) Provide schema**"
   ]
  },
  {
   "cell_type": "code",
   "execution_count": 3,
   "id": "71a6a67c",
   "metadata": {},
   "outputs": [
    {
     "data": {
      "text/html": [
       "<table><tr><th>nodes</th><th>relationships</th></tr><tr><td style=\"text-align:left\">[(_-22:Person {constraints: [], indexes: [], name: &#039;Person&#039;})]</td><td style=\"text-align:left\">[(_-22)-[:Date {}]-&gt;(_-22)]</td></tr></table>"
      ],
      "text/plain": [
       " nodes                                                          | relationships               \n",
       "----------------------------------------------------------------|-----------------------------\n",
       " [(_-22:Person {constraints: [], indexes: [], name: 'Person'})] | [(_-22)-[:Date {}]->(_-22)] "
      ]
     },
     "execution_count": 3,
     "metadata": {},
     "output_type": "execute_result"
    }
   ],
   "source": [
    "schema = \"CALL db.schema.visualization\"\n",
    "graph.run(schema)"
   ]
  },
  {
   "cell_type": "markdown",
   "id": "6884bd75",
   "metadata": {},
   "source": [
    "**2) Determine the ratio of Female to Males**"
   ]
  },
  {
   "cell_type": "code",
   "execution_count": 4,
   "id": "1409d314",
   "metadata": {},
   "outputs": [
    {
     "name": "stdout",
     "output_type": "stream",
     "text": [
      "268\n"
     ]
    }
   ],
   "source": [
    "female = \"MATCH (female {gender:0})RETURN count(*) as femt\"\n",
    "results = graph.run(female)\n",
    "for index, rec in enumerate(results):\n",
    "    f = rec['femt']\n",
    "\n",
    "print(f)\n"
   ]
  },
  {
   "cell_type": "code",
   "execution_count": 5,
   "id": "c16aa433",
   "metadata": {},
   "outputs": [
    {
     "name": "stdout",
     "output_type": "stream",
     "text": [
      "274\n"
     ]
    }
   ],
   "source": [
    "male = \"MATCH (male {gender:1}) RETURN count(*) as mal\"\n",
    "results = graph.run(male)\n",
    "for index, rec in enumerate(results):\n",
    "    m = rec['mal']\n",
    "print(m)"
   ]
  },
  {
   "cell_type": "code",
   "execution_count": 6,
   "id": "8ee7b2ec",
   "metadata": {},
   "outputs": [
    {
     "name": "stdout",
     "output_type": "stream",
     "text": [
      "0.4944649446494465\n"
     ]
    }
   ],
   "source": [
    "#Simple Ratio\n",
    "ratio = f / (m + f)\n",
    "print(ratio)"
   ]
  },
  {
   "cell_type": "markdown",
   "id": "5a3b141e",
   "metadata": {},
   "source": [
    "**Determine the % of dates that were matches (both selected each other). Select columns that would prove useful in predicting a match. Explain your reasoning.**"
   ]
  },
  {
   "cell_type": "markdown",
   "id": "a018ef51",
   "metadata": {},
   "source": [
    "Columnn Selection: race & age were the only attributes that seemed appropriate. "
   ]
  },
  {
   "cell_type": "code",
   "execution_count": 7,
   "id": "94418418",
   "metadata": {},
   "outputs": [
    {
     "data": {
      "text/html": [
       "<table><tr><th>count(p)</th></tr><tr><td style=\"text-align:right\">2684</td></tr></table>"
      ],
      "text/plain": [
       " count(p) \n",
       "----------\n",
       "     2684 "
      ]
     },
     "execution_count": 7,
     "metadata": {},
     "output_type": "execute_result"
    }
   ],
   "source": [
    "selected = \"MATCH  p = () -[r {match:1}]- ()  RETURN count(p)\"\n",
    "graph.run(selected)"
   ]
  },
  {
   "cell_type": "code",
   "execution_count": 8,
   "id": "8b9f4270",
   "metadata": {},
   "outputs": [
    {
     "data": {
      "text/html": [
       "<table><tr><th>count(q)</th></tr><tr><td style=\"text-align:right\">8148</td></tr></table>"
      ],
      "text/plain": [
       " count(q) \n",
       "----------\n",
       "     8148 "
      ]
     },
     "execution_count": 8,
     "metadata": {},
     "output_type": "execute_result"
    }
   ],
   "source": [
    "all_dates = \"MATCH q =()-->() RETURN count(q)\"\n",
    "graph.run(all_dates)"
   ]
  },
  {
   "cell_type": "code",
   "execution_count": 9,
   "id": "40607206",
   "metadata": {},
   "outputs": [
    {
     "data": {
      "text/html": [
       "<table><tr><th>p</th></tr><tr><td style=\"text-align:left\">(_0)&lt;-[:Date {age_diff: 1, int_corr: 0.16, match: 1, race_diff: 1}]-(_12)</td></tr><tr><td style=\"text-align:left\">(_0)&lt;-[:Date {age_diff: 7, int_corr: 0.28, match: 1, race_diff: 0}]-(_18)</td></tr><tr><td style=\"text-align:left\">(_0)&lt;-[:Date {age_diff: 2, int_corr: 0.61, match: 1, race_diff: 0}]-(_13)</td></tr></table>"
      ],
      "text/plain": [
       " p                                                                         \n",
       "---------------------------------------------------------------------------\n",
       " (_0)<-[:Date {age_diff: 1, int_corr: 0.16, match: 1, race_diff: 1}]-(_12) \n",
       " (_0)<-[:Date {age_diff: 7, int_corr: 0.28, match: 1, race_diff: 0}]-(_18) \n",
       " (_0)<-[:Date {age_diff: 2, int_corr: 0.61, match: 1, race_diff: 0}]-(_13) "
      ]
     },
     "execution_count": 9,
     "metadata": {},
     "output_type": "execute_result"
    }
   ],
   "source": [
    "characteristics = \"MATCH  p = () -[r {match:1}]- ()  RETURN p\"\n",
    "graph.run(characteristics)"
   ]
  },
  {
   "cell_type": "code",
   "execution_count": 10,
   "id": "846d36ab",
   "metadata": {},
   "outputs": [
    {
     "name": "stdout",
     "output_type": "stream",
     "text": [
      "32.94059891998036\n"
     ]
    }
   ],
   "source": [
    "#percentage of matches\n",
    "percent = (2684/8148)*100\n",
    "print(percent)"
   ]
  },
  {
   "cell_type": "markdown",
   "id": "c3f0b962-bede-4482-871b-196b4e28101f",
   "metadata": {},
   "source": [
    "**Go back to the Speed Dating Data Key.doc and select additional columns that you think would be useful in predicting a match.  Then setup supervised learning to create a model that predicts a match.  There isn't a lot of data so see what performance you can achieve.  You are free to use any model you like.**"
   ]
  },
  {
   "cell_type": "code",
   "execution_count": 11,
   "id": "72064016",
   "metadata": {},
   "outputs": [],
   "source": [
    "import warnings\n",
    "import pandas as pd\n",
    "import numpy as np\n",
    "from sklearn.ensemble import RandomForestClassifier\n",
    "from sklearn.metrics import accuracy_score, confusion_matrix\n",
    "from sklearn.model_selection import KFold\n",
    "from sklearn.discriminant_analysis import LinearDiscriminantAnalysis\n",
    "from sklearn.naive_bayes import GaussianNB\n",
    "from sklearn.neighbors import KernelDensity\n",
    "from sklearn.svm import SVC\n"
   ]
  },
  {
   "cell_type": "code",
   "execution_count": 12,
   "id": "0f52c31b",
   "metadata": {},
   "outputs": [],
   "source": [
    "dataframe = pd.read_csv(\"SpeedDatingData_tiny2.csv\")\n",
    "df = dataframe.copy()\n",
    "df['age'] = df['age'].fillna(df['age'].mean())\n",
    "df['age_o'] = df['age_o'].fillna(df['age_o'].mean())\n",
    "df['race'] = df['race'].fillna(df['race'].mean())\n",
    "df['race_o'] = df['race_o'].fillna(df['race_o'].mean())\n",
    "missing = df.isnull().sum()\n"
   ]
  },
  {
   "cell_type": "code",
   "execution_count": 13,
   "id": "6376878a",
   "metadata": {},
   "outputs": [],
   "source": [
    "X = df.iloc[:, :-1]\n",
    "y = df.iloc[:, -1]\n"
   ]
  },
  {
   "cell_type": "code",
   "execution_count": 14,
   "id": "ca93f536",
   "metadata": {},
   "outputs": [
    {
     "name": "stdout",
     "output_type": "stream",
     "text": [
      "Train : [   2    3    4 ... 8372 8373 8376] Test:  [   0    1    5 ... 8374 8375 8377]\n",
      "Accuracy Score Random Forest: 0.7941527446300716\n",
      "Accuracy Score SVC: 0.8281622911694511\n",
      "Accuracy Score GaussianNB: 0.8281622911694511\n",
      "Train : [   0    1    2 ... 8375 8376 8377] Test:  [   8   10   20 ... 8366 8370 8373]\n",
      "Accuracy Score Random Forest: 0.798926014319809\n",
      "Accuracy Score SVC: 0.8281622911694511\n",
      "Accuracy Score GaussianNB: 0.8281622911694511\n",
      "Train : [   0    1    3 ... 8375 8376 8377] Test:  [   2    6    9 ... 8343 8368 8369]\n",
      "Accuracy Score Random Forest: 0.8323389021479713\n",
      "Accuracy Score SVC: 0.8532219570405728\n",
      "Accuracy Score GaussianNB: 0.8532219570405728\n",
      "Train : [   0    1    2 ... 8375 8376 8377] Test:  [   3    7   12 ... 8363 8367 8372]\n",
      "Accuracy Score Random Forest: 0.8059701492537313\n",
      "Accuracy Score SVC: 0.8322388059701492\n",
      "Accuracy Score GaussianNB: 0.8322388059701492\n",
      "Train : [   0    1    2 ... 8374 8375 8377] Test:  [   4   13   15 ... 8357 8359 8376]\n",
      "Accuracy Score Random Forest: 0.8095522388059702\n",
      "Accuracy Score SVC: 0.8346268656716418\n",
      "Accuracy Score GaussianNB: 0.8346268656716418\n"
     ]
    }
   ],
   "source": [
    "# Implementing cross validation\n",
    "# Instantiating the K-Fold cross validation object with 5 folds\n",
    "k_folds = KFold(n_splits=5, shuffle=True)\n",
    "# Iterating through each of the folds in K-Fold\n",
    "for train_index, val_index in k_folds.split(X):\n",
    "    print(\"Train :\", train_index, \"Test: \", val_index)\n",
    "    X_train, X_val = X.iloc[train_index, :], X.iloc[val_index, :]\n",
    "    y_train, y_val = y.iloc[train_index], y.iloc[val_index]\n",
    "\n",
    "    # Instantiating a RandomForestClassifier model\n",
    "    rfc_model = RandomForestClassifier()\n",
    "    svc_model = SVC(kernel='linear')  # Support Vector Machine\n",
    "    gnb_model = GaussianNB()  # Gaussian\n",
    "\n",
    "    # Fitting the X_train and y_train datasets to models below\n",
    "    rfc_model.fit(X_train, y_train)\n",
    "    svc_model.fit(X_train, y_train)\n",
    "    gnb_model.fit(X_train, y_train)\n",
    "\n",
    "    # predictions for vaildation sets\n",
    "    val_preds_rfc = rfc_model.predict(X_val)\n",
    "\n",
    "    val_preds_svc = svc_model.predict(X_val)\n",
    "    val_preds_gnb = gnb_model.predict(X_val)\n",
    "\n",
    "    # Validation Metrics \n",
    "    val_accuracy_rfc = accuracy_score(y_val, val_preds_rfc)\n",
    "    val_confusion_matrix_rfc = confusion_matrix(y_val, val_preds_rfc)\n",
    "\n",
    "    val_accuracy_svc = accuracy_score(y_val, val_preds_svc)\n",
    "    val_confusion_matrix_svc = confusion_matrix(y_val, val_preds_svc)\n",
    "\n",
    "    val_accuracy_gnb = accuracy_score(y_val, val_preds_gnb)\n",
    "    val_confusion_matrix_gnb = confusion_matrix(y_val, val_preds_gnb)\n",
    "\n",
    "    # Printing out the validation metrics\n",
    "    print(f'Accuracy Score Random Forest: {val_accuracy_rfc}')\n",
    "    print(f'Accuracy Score SVC: {val_accuracy_svc}')\n",
    "    print(f'Accuracy Score GaussianNB: {val_accuracy_gnb}')"
   ]
  }
 ],
 "metadata": {
  "kernelspec": {
   "display_name": "Python 3 (ipykernel)",
   "language": "python",
   "name": "python3"
  },
  "language_info": {
   "codemirror_mode": {
    "name": "ipython",
    "version": 3
   },
   "file_extension": ".py",
   "mimetype": "text/x-python",
   "name": "python",
   "nbconvert_exporter": "python",
   "pygments_lexer": "ipython3",
   "version": "3.9.12"
  }
 },
 "nbformat": 4,
 "nbformat_minor": 5
}
