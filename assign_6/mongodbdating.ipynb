{
 "cells": [
  {
   "cell_type": "markdown",
   "id": "8ce5a70e",
   "metadata": {},
   "source": [
    "Claribel Gonell\n",
    "\n",
    "EN 705.603.82 - Module 6 - Assignment 6\n"
   ]
  },
  {
   "cell_type": "markdown",
   "id": "0c20b613",
   "metadata": {},
   "source": [
    "# Directions"
   ]
  },
  {
   "cell_type": "markdown",
   "id": "b0b0d7b0",
   "metadata": {},
   "source": [
    "Create two notebooks:neo4jdating.ipynb and mongodating.ipynb.  Place all the answers in the notebooks with the final section in the mongodating.ipynb with the contrast observations between the two.  Although you are free to do it, it is not required to create a working docker image and place it into you docker hub repository."
   ]
  },
  {
   "cell_type": "markdown",
   "id": "ca71f24a-a32e-4bca-8fa6-e625fb8f9816",
   "metadata": {},
   "source": [
    "**Import main mongo class**"
   ]
  },
  {
   "cell_type": "code",
   "execution_count": 1,
   "id": "5cda7c63-ac37-42ac-a450-5824be45beff",
   "metadata": {},
   "outputs": [],
   "source": [
    "from pymongo import MongoClient"
   ]
  },
  {
   "cell_type": "markdown",
   "id": "31d7116e-81cc-4ba0-ab08-ad2919d8110b",
   "metadata": {
    "tags": []
   },
   "source": [
    "**Connect to mongo database**"
   ]
  },
  {
   "cell_type": "code",
   "execution_count": 2,
   "id": "4fc4dd06-c07f-40e9-97dc-94e1d02265a6",
   "metadata": {},
   "outputs": [],
   "source": [
    "client = MongoClient('localhost', 27017)"
   ]
  },
  {
   "cell_type": "markdown",
   "id": "83c23481-ef35-4ab5-b877-5756766d8232",
   "metadata": {},
   "source": [
    "**1) List current databases in mongo**"
   ]
  },
  {
   "cell_type": "code",
   "execution_count": 3,
   "id": "199ca5aa-8a6d-40ad-85fe-070241ac0cc6",
   "metadata": {},
   "outputs": [
    {
     "name": "stdout",
     "output_type": "stream",
     "text": [
      "['admin', 'config', 'local', 'mydatabase', 'speeddating']\n"
     ]
    }
   ],
   "source": [
    "dbs = client.list_database_names()\n",
    "print(dbs)"
   ]
  },
  {
   "cell_type": "markdown",
   "id": "350ee118",
   "metadata": {},
   "source": [
    "**2) Use speeddating databse**"
   ]
  },
  {
   "cell_type": "code",
   "execution_count": 4,
   "id": "fcfd92dc",
   "metadata": {},
   "outputs": [],
   "source": [
    "db = client['speeddating']"
   ]
  },
  {
   "cell_type": "markdown",
   "id": "28d450cd",
   "metadata": {},
   "source": [
    "**3) Show collections**"
   ]
  },
  {
   "cell_type": "code",
   "execution_count": 5,
   "id": "e5b87ded",
   "metadata": {},
   "outputs": [
    {
     "name": "stdout",
     "output_type": "stream",
     "text": [
      "['events']\n"
     ]
    }
   ],
   "source": [
    "collections = db.list_collection_names()\n",
    "print(collections)"
   ]
  },
  {
   "cell_type": "markdown",
   "id": "63087c69",
   "metadata": {},
   "source": [
    "**4) Show one of the collection documents**"
   ]
  },
  {
   "cell_type": "code",
   "execution_count": 6,
   "id": "89bb072c",
   "metadata": {},
   "outputs": [],
   "source": [
    "find_one = db.events.find_one()\n"
   ]
  },
  {
   "cell_type": "markdown",
   "id": "3ce62b21",
   "metadata": {},
   "source": [
    "**5) Find all matches**"
   ]
  },
  {
   "cell_type": "code",
   "execution_count": 7,
   "id": "17f87e81",
   "metadata": {},
   "outputs": [],
   "source": [
    "all_matches = db.events.find({\"match\":1})\n",
    "\n"
   ]
  },
  {
   "cell_type": "markdown",
   "id": "7d111286",
   "metadata": {},
   "source": [
    "**Now query the features you need to build a prediction model for matches**"
   ]
  },
  {
   "cell_type": "code",
   "execution_count": 8,
   "id": "5e61feea",
   "metadata": {},
   "outputs": [
    {
     "name": "stdout",
     "output_type": "stream",
     "text": [
      "attractive_o      object\n",
      "intelligence_o    object\n",
      "funny_o           object\n",
      "attractive        object\n",
      "intelligence      object\n",
      "funny             object\n",
      "match              int64\n",
      "dtype: object\n",
      "<bound method NDFrame.head of      attractive_o intelligence_o funny_o attractive intelligence funny  match\n",
      "0               7             10       7          6            8     8      0\n",
      "1              10             10      10          6            8     8      1\n",
      "2               7              9       8          6            8     8      1\n",
      "3               6              8       8          6            8     8      0\n",
      "4               8              9       6          6            8     8      1\n",
      "...           ...            ...     ...        ...          ...   ...    ...\n",
      "8373            8              7       7          8            6     7      0\n",
      "8374            6              7       3          8            6     7      0\n",
      "8375            2              2       2          8            6     7      0\n",
      "8376            5              5       5          8            6     7      0\n",
      "8377            8              7       7          8            6     7      0\n",
      "\n",
      "[8378 rows x 7 columns]>\n",
      "      attractive_o  intelligence_o  funny_o  attractive  intelligence  funny  \\\n",
      "0              7.0            10.0      7.0         6.0           8.0    8.0   \n",
      "1             10.0            10.0     10.0         6.0           8.0    8.0   \n",
      "2              7.0             9.0      8.0         6.0           8.0    8.0   \n",
      "3              6.0             8.0      8.0         6.0           8.0    8.0   \n",
      "4              8.0             9.0      6.0         6.0           8.0    8.0   \n",
      "...            ...             ...      ...         ...           ...    ...   \n",
      "8373           8.0             7.0      7.0         8.0           6.0    7.0   \n",
      "8374           6.0             7.0      3.0         8.0           6.0    7.0   \n",
      "8375           2.0             2.0      2.0         8.0           6.0    7.0   \n",
      "8376           5.0             5.0      5.0         8.0           6.0    7.0   \n",
      "8377           8.0             7.0      7.0         8.0           6.0    7.0   \n",
      "\n",
      "      match  \n",
      "0         0  \n",
      "1         1  \n",
      "2         1  \n",
      "3         0  \n",
      "4         1  \n",
      "...     ...  \n",
      "8373      0  \n",
      "8374      0  \n",
      "8375      0  \n",
      "8376      0  \n",
      "8377      0  \n",
      "\n",
      "[8378 rows x 7 columns]\n",
      "attractive_o      float64\n",
      "intelligence_o    float64\n",
      "funny_o           float64\n",
      "attractive        float64\n",
      "intelligence      float64\n",
      "funny             float64\n",
      "match               int64\n",
      "dtype: object\n"
     ]
    }
   ],
   "source": [
    "from pandas import DataFrame\n",
    "import pandas as pd\n",
    "import numpy as np\n",
    "features = db.events.find( { }, { \"match\": 1,\"intelligence\": 1, \"intelligence_o\": 1,\"attractive\": 1,\n",
    "                                 \"attractive_o\": 1,\"funny\": 1,\n",
    "                                \"funny_o\": 1, })\n",
    "list_feat = list(features)\n",
    "df = DataFrame(list_feat)\n",
    "df = df.drop(columns=['_id'])\n",
    "print(df.dtypes)\n",
    "print(df.head)\n",
    "\n",
    "# Convert numeric function string to float\n",
    "\n",
    "df['attractive_o'] = pd.to_numeric(df['attractive_o'], errors='coerce')\n",
    "df['intelligence'] = pd.to_numeric(df['intelligence'], errors='coerce')\n",
    "df['intelligence_o'] = pd.to_numeric(df['intelligence_o'], errors='coerce')\n",
    "df['attractive'] = pd.to_numeric(df['attractive'], errors='coerce')\n",
    "df['funny'] = pd.to_numeric(df['funny'], errors='coerce')\n",
    "df['funny_o'] = pd.to_numeric(df['funny_o'], errors='coerce')\n",
    "\n",
    "df = df.replace(np.nan, 0, regex=True)\n",
    "\n",
    "print(df)\n",
    "print(df.dtypes)\n"
   ]
  },
  {
   "cell_type": "code",
   "execution_count": 9,
   "id": "ca423eb1",
   "metadata": {},
   "outputs": [],
   "source": [
    "import warnings\n",
    "import pandas as pd\n",
    "import numpy as np\n",
    "from sklearn.ensemble import RandomForestClassifier\n",
    "from sklearn.metrics import accuracy_score, confusion_matrix\n",
    "from sklearn.model_selection import KFold\n",
    "from sklearn.discriminant_analysis import LinearDiscriminantAnalysis\n",
    "from sklearn.naive_bayes import GaussianNB\n",
    "from sklearn.neighbors import KernelDensity\n",
    "from sklearn.svm import SVC\n"
   ]
  },
  {
   "cell_type": "code",
   "execution_count": 10,
   "id": "cacb63a5",
   "metadata": {},
   "outputs": [],
   "source": [
    "y = df['match']\n",
    "X = df.drop(columns=['match'])\n"
   ]
  },
  {
   "cell_type": "code",
   "execution_count": 11,
   "id": "ca004b49",
   "metadata": {},
   "outputs": [
    {
     "name": "stdout",
     "output_type": "stream",
     "text": [
      "Train : [   1    2    3 ... 8375 8376 8377] Test:  [   0    6    9 ... 8357 8358 8370]\n",
      "Accuracy Score Random Forest: 0.788782816229117\n",
      "Accuracy Score SVC: 0.8251789976133651\n",
      "Accuracy Score GaussianNB: 0.7804295942720764\n",
      "Train : [   0    1    2 ... 8373 8376 8377] Test:  [   4    7   10 ... 8366 8374 8375]\n",
      "Accuracy Score Random Forest: 0.8174224343675418\n",
      "Accuracy Score SVC: 0.8466587112171837\n",
      "Accuracy Score GaussianNB: 0.795346062052506\n",
      "Train : [   0    1    2 ... 8374 8375 8377] Test:  [   3   12   22 ... 8368 8373 8376]\n",
      "Accuracy Score Random Forest: 0.7875894988066826\n",
      "Accuracy Score SVC: 0.8174224343675418\n",
      "Accuracy Score GaussianNB: 0.7834128878281623\n",
      "Train : [   0    1    2 ... 8374 8375 8376] Test:  [   5   14   18 ... 8371 8372 8377]\n",
      "Accuracy Score Random Forest: 0.8214925373134329\n",
      "Accuracy Score SVC: 0.8483582089552238\n",
      "Accuracy Score GaussianNB: 0.786865671641791\n",
      "Train : [   0    3    4 ... 8375 8376 8377] Test:  [   1    2    8 ... 8355 8356 8367]\n",
      "Accuracy Score Random Forest: 0.8011940298507463\n",
      "Accuracy Score SVC: 0.8388059701492537\n",
      "Accuracy Score GaussianNB: 0.777910447761194\n"
     ]
    }
   ],
   "source": [
    "# Implementing cross validation\n",
    "# Instantiating the K-Fold cross validation object with 5 folds\n",
    "k_folds = KFold(n_splits=5, shuffle=True)\n",
    "# Iterating through each of the folds in K-Fold\n",
    "for train_index, val_index in k_folds.split(X):\n",
    "    print(\"Train :\", train_index, \"Test: \", val_index)\n",
    "    X_train, X_val = X.iloc[train_index, :], X.iloc[val_index, :]\n",
    "    y_train, y_val = y.iloc[train_index], y.iloc[val_index]\n",
    "\n",
    "    # Instantiating a RandomForestClassifier model\n",
    "    rfc_model = RandomForestClassifier()\n",
    "    svc_model = SVC(kernel='linear')  # Support Vector Machine\n",
    "    gnb_model = GaussianNB()  # Gaussian\n",
    "\n",
    "    # Fitting the X_train and y_train datasets to models below\n",
    "    rfc_model.fit(X_train, y_train)\n",
    "    svc_model.fit(X_train, y_train)\n",
    "    gnb_model.fit(X_train, y_train)\n",
    "\n",
    "    # predictions for vaildation sets\n",
    "    val_preds_rfc = rfc_model.predict(X_val)\n",
    "\n",
    "    val_preds_svc = svc_model.predict(X_val)\n",
    "    val_preds_gnb = gnb_model.predict(X_val)\n",
    "\n",
    "    # Validation Metrics \n",
    "    val_accuracy_rfc = accuracy_score(y_val, val_preds_rfc)\n",
    "    val_confusion_matrix_rfc = confusion_matrix(y_val, val_preds_rfc)\n",
    "\n",
    "    val_accuracy_svc = accuracy_score(y_val, val_preds_svc)\n",
    "    val_confusion_matrix_svc = confusion_matrix(y_val, val_preds_svc)\n",
    "\n",
    "    val_accuracy_gnb = accuracy_score(y_val, val_preds_gnb)\n",
    "    val_confusion_matrix_gnb = confusion_matrix(y_val, val_preds_gnb)\n",
    "\n",
    "    # Printing out the validation metrics\n",
    "    print(f'Accuracy Score Random Forest: {val_accuracy_rfc}')\n",
    "    print(f'Accuracy Score SVC: {val_accuracy_svc}')\n",
    "    print(f'Accuracy Score GaussianNB: {val_accuracy_gnb}')"
   ]
  },
  {
   "cell_type": "markdown",
   "id": "c2c84cb4",
   "metadata": {},
   "source": [
    "**Finally, at the end of the notebook enter a section that contrast the two databases.  Note the advantages and disadvantages of each?  What type of situation is each best suited for?**"
   ]
  },
  {
   "cell_type": "markdown",
   "id": "6a952187",
   "metadata": {},
   "source": [
    "**Neo4J**\n",
    "\n",
    "Advantages: schema optional, navigation through tree traversal(very true to graph structure)\n",
    "\n",
    "Disadvantages: no partioning methods\n",
    "\n",
    "Best Suitable For: Graph database management systems; data that requires entity-relationship integrity\n",
    "\n",
    "**MongoDB**\n",
    "\n",
    "Advantages: document store structure makes it very easy to query and is schema-less, very flexible\n",
    "\n",
    "Disadvantages: cannot create relationships \n",
    "\n",
    "Best Suitable For: Everything else. "
   ]
  }
 ],
 "metadata": {
  "kernelspec": {
   "display_name": "Python 3 (ipykernel)",
   "language": "python",
   "name": "python3"
  },
  "language_info": {
   "codemirror_mode": {
    "name": "ipython",
    "version": 3
   },
   "file_extension": ".py",
   "mimetype": "text/x-python",
   "name": "python",
   "nbconvert_exporter": "python",
   "pygments_lexer": "ipython3",
   "version": "3.9.12"
  }
 },
 "nbformat": 4,
 "nbformat_minor": 5
}
